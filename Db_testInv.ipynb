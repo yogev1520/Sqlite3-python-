{
 "cells": [
  {
   "cell_type": "markdown",
   "metadata": {},
   "source": [
    "# SQLITE-3 \n",
    "## with PYTHON-3\n",
    "### part 1 import module create connection "
   ]
  },
  {
   "cell_type": "code",
   "execution_count": 2,
   "metadata": {},
   "outputs": [],
   "source": [
    "#https://docs.python.org/3/library/sqlite3.html \n",
    "\n",
    "#import the sqlite3 module python3 build-in-module  \n",
    "import sqlite3\n",
    "\n",
    "#create connection  to dataBase object (\"any name.db\") if the file dont exist he will be create\n",
    "con = sqlite3.connect(\"tutorial.db\")\n",
    "#Create with the connection cursor  to add and exctract data \n",
    "cur = con.cursor()\n",
    "\n",
    "\n"
   ]
  },
  {
   "cell_type": "markdown",
   "metadata": {},
   "source": [
    "## create table with 3 continers"
   ]
  },
  {
   "cell_type": "code",
   "execution_count": null,
   "metadata": {},
   "outputs": [],
   "source": [
    "#create table  with 3 continers name email id NOTE you dont need to spcifing TYPE \n",
    "cur.execute(\"CREATE TABLE user(name,email,id)\") \n"
   ]
  },
  {
   "cell_type": "markdown",
   "metadata": {},
   "source": [
    "# part 2 verifying thet  the table was create"
   ]
  },
  {
   "cell_type": "code",
   "execution_count": 4,
   "metadata": {},
   "outputs": [
    {
     "data": {
      "text/plain": [
       "[('user',)]"
      ]
     },
     "execution_count": 4,
     "metadata": {},
     "output_type": "execute_result"
    }
   ],
   "source": [
    "#We can see that the table has been created, as the query returns a tuple containing the table’s \n",
    "# name. If we query sqlite_master for a non-existent table spam, res.fetchone() will return None\n",
    "#verify thet the table was create\n",
    "res = cur.execute(\"SELECT name FROM sqlite_master\")\n",
    "res.fetchall()\n"
   ]
  },
  {
   "cell_type": "markdown",
   "metadata": {},
   "source": [
    "### check if We can see that the table has been created, as the query returns a tuple containing the table’s name.\n",
    "### If we query sqlite_master for a non-existent table spam, res.fetchone() will return None:"
   ]
  },
  {
   "cell_type": "code",
   "execution_count": 10,
   "metadata": {},
   "outputs": [
    {
     "data": {
      "text/plain": [
       "True"
      ]
     },
     "execution_count": 10,
     "metadata": {},
     "output_type": "execute_result"
    }
   ],
   "source": [
    "#check if We can see that the table has been created, as the query returns a tuple containing the table’s name.\n",
    "#  If we query sqlite_master for a non-existent table spam, res.fetchone() will return None:\n",
    "res = cur.execute(\"SELECT name FROM sqlite_master WHERE name='spam'\")\n",
    "res.fetchone() is None"
   ]
  },
  {
   "cell_type": "markdown",
   "metadata": {},
   "source": [
    "# add values to DataBase"
   ]
  },
  {
   "cell_type": "code",
   "execution_count": 11,
   "metadata": {},
   "outputs": [],
   "source": [
    "cur.execute(\"\"\"\n",
    "INSERT INTO user VALUES (\"name\",\"email\",\"id\"),(\"yogev\",\"yogev1520@gmail.com\",300257227)\n",
    "\"\"\")\n",
    "\n",
    "con.commit()#dont forget to commit"
   ]
  },
  {
   "cell_type": "markdown",
   "metadata": {},
   "source": [
    "# get the Data From Data-Base"
   ]
  },
  {
   "cell_type": "code",
   "execution_count": 12,
   "metadata": {},
   "outputs": [
    {
     "name": "stdout",
     "output_type": "stream",
     "text": [
      "[('name',), ('yogev',)]\n",
      "[('email',), ('yogev1520@gmail.com',)]\n",
      "[('id',), (300257227,)]\n"
     ]
    },
    {
     "data": {
      "text/plain": [
       "[('name', 'email', 'id'), ('yogev', 'yogev1520@gmail.com', 300257227)]"
      ]
     },
     "execution_count": 12,
     "metadata": {},
     "output_type": "execute_result"
    }
   ],
   "source": [
    "#select name \n",
    "res.execute(\"SELECT name FROM user\")\n",
    "print(res.fetchall())\n",
    "\n",
    "#select email\n",
    "res = cur.execute(\"SELECT email FROM user\")\n",
    "print(res.fetchall())\n",
    "\n",
    "#select id\n",
    "res = cur.execute(\"SELECT id FROM user\")\n",
    "print(res.fetchall())\n",
    "\n",
    "#select all data\n",
    "res = cur.execute(\"SELECT * FROM user\")\n",
    "res.fetchall()"
   ]
  },
  {
   "cell_type": "markdown",
   "metadata": {},
   "source": [
    "# Delete data from DataBase "
   ]
  },
  {
   "cell_type": "code",
   "execution_count": 6,
   "metadata": {},
   "outputs": [],
   "source": [
    "#delete all table\n",
    "res = cur.execute(\"DELETE FROM user \")\n",
    "#delete only place_holder with the name on it\n",
    "res = cur.execute(\"DELETE FROM user WHERE name\")\n",
    "#https://www.w3schools.com/sql/sql_delete.asp"
   ]
  },
  {
   "cell_type": "code",
   "execution_count": 8,
   "metadata": {},
   "outputs": [
    {
     "data": {
      "text/plain": [
       "[]"
      ]
     },
     "execution_count": 8,
     "metadata": {},
     "output_type": "execute_result"
    }
   ],
   "source": [
    "#select all data\n",
    "res = cur.execute(\"SELECT * FROM user\")\n",
    "res.fetchall()"
   ]
  }
 ],
 "metadata": {
  "kernelspec": {
   "display_name": "Python 3.10.4 64-bit",
   "language": "python",
   "name": "python3"
  },
  "language_info": {
   "codemirror_mode": {
    "name": "ipython",
    "version": 3
   },
   "file_extension": ".py",
   "mimetype": "text/x-python",
   "name": "python",
   "nbconvert_exporter": "python",
   "pygments_lexer": "ipython3",
   "version": "3.10.4"
  },
  "orig_nbformat": 4,
  "vscode": {
   "interpreter": {
    "hash": "55ffb2249f06397e30ce40b402fe342def9d3c2fd73a2c0ed445486b6fb4058d"
   }
  }
 },
 "nbformat": 4,
 "nbformat_minor": 2
}
